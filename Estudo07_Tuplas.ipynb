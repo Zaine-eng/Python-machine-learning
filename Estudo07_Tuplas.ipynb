{
  "nbformat": 4,
  "nbformat_minor": 0,
  "metadata": {
    "colab": {
      "name": "Estudo07_Tuplas.ipynb",
      "provenance": [],
      "authorship_tag": "ABX9TyOKojmte4+dORO8tGHrZvPx",
      "include_colab_link": true
    },
    "kernelspec": {
      "name": "python3",
      "display_name": "Python 3"
    },
    "language_info": {
      "name": "python"
    }
  },
  "cells": [
    {
      "cell_type": "markdown",
      "metadata": {
        "id": "view-in-github",
        "colab_type": "text"
      },
      "source": [
        "<a href=\"https://colab.research.google.com/github/Zaine-eng/Python-pandas-numpay-matplotlib/blob/main/Estudo07_Tuplas.ipynb\" target=\"_parent\"><img src=\"https://colab.research.google.com/assets/colab-badge.svg\" alt=\"Open In Colab\"/></a>"
      ]
    },
    {
      "cell_type": "markdown",
      "source": [
        "# **1. Tuplas**"
      ],
      "metadata": {
        "id": "lHRD4pXgbpPa"
      }
    },
    {
      "cell_type": "markdown",
      "source": [
        "É uma lista que não pode ser alterada."
      ],
      "metadata": {
        "id": "Cr4rwUksmR5j"
      }
    },
    {
      "cell_type": "code",
      "source": [
        "lista = [2, 3, 6, 7]\n",
        "lista[0]\n",
        "lista[1] = 8\n",
        "print(lista)"
      ],
      "metadata": {
        "colab": {
          "base_uri": "https://localhost:8080/"
        },
        "id": "oIHWqWSomg2R",
        "outputId": "d648f4c9-f0f0-4c49-d387-efdad146e70f"
      },
      "execution_count": 2,
      "outputs": [
        {
          "output_type": "stream",
          "name": "stdout",
          "text": [
            "[2, 8, 6, 7]\n"
          ]
        }
      ]
    },
    {
      "cell_type": "markdown",
      "source": [
        "Note que na lista acima podemos fazer alterações, com a tupla isso não acontece, veremos com detalhes no código abaixo. "
      ],
      "metadata": {
        "id": "G7lWc5_jm3w9"
      }
    },
    {
      "cell_type": "markdown",
      "source": [
        "Lembre-se o parêntese no python indica a tupla. "
      ],
      "metadata": {
        "id": "IY6ZIyLtnAQp"
      }
    },
    {
      "cell_type": "code",
      "execution_count": 3,
      "metadata": {
        "colab": {
          "base_uri": "https://localhost:8080/"
        },
        "id": "vh8aFLlGMhfg",
        "outputId": "780d9f24-fab0-4c77-b18c-09c2daaac6ea"
      },
      "outputs": [
        {
          "output_type": "execute_result",
          "data": {
            "text/plain": [
              "3"
            ]
          },
          "metadata": {},
          "execution_count": 3
        }
      ],
      "source": [
        "tupla = (3, 2, 4, 5)\n",
        "tupla[0]"
      ]
    },
    {
      "cell_type": "markdown",
      "source": [
        "Veja que, conseguimos visualizar o valor, porém não podemos trocar o valor como fizemos na lista acima."
      ],
      "metadata": {
        "id": "VNcRzc2Snod3"
      }
    },
    {
      "cell_type": "code",
      "source": [
        "tupla[0] = 8"
      ],
      "metadata": {
        "colab": {
          "base_uri": "https://localhost:8080/",
          "height": 165
        },
        "id": "oVNaF3pVnx_J",
        "outputId": "268e9fbe-0018-44cb-f0cd-3e6a22f81b8e"
      },
      "execution_count": 4,
      "outputs": [
        {
          "output_type": "error",
          "ename": "TypeError",
          "evalue": "ignored",
          "traceback": [
            "\u001b[0;31m---------------------------------------------------------------------------\u001b[0m",
            "\u001b[0;31mTypeError\u001b[0m                                 Traceback (most recent call last)",
            "\u001b[0;32m<ipython-input-4-71bc0036eaab>\u001b[0m in \u001b[0;36m<module>\u001b[0;34m()\u001b[0m\n\u001b[0;32m----> 1\u001b[0;31m \u001b[0mtupla\u001b[0m\u001b[0;34m[\u001b[0m\u001b[0;36m0\u001b[0m\u001b[0;34m]\u001b[0m \u001b[0;34m=\u001b[0m \u001b[0;36m8\u001b[0m\u001b[0;34m\u001b[0m\u001b[0;34m\u001b[0m\u001b[0m\n\u001b[0m",
            "\u001b[0;31mTypeError\u001b[0m: 'tuple' object does not support item assignment"
          ]
        }
      ]
    },
    {
      "cell_type": "markdown",
      "source": [
        "Veja, recebeu uma mensagem de erro avisando que você não pode fazer isso, pois, a tupla é um objeto que não suporta a atribuição de itens. "
      ],
      "metadata": {
        "id": "m7sikaIin9xL"
      }
    },
    {
      "cell_type": "markdown",
      "source": [
        "Usando o comando del,na lista."
      ],
      "metadata": {
        "id": "NYMDOTOMom-W"
      }
    },
    {
      "cell_type": "code",
      "source": [
        "del lista[2]\n",
        "print(lista)"
      ],
      "metadata": {
        "colab": {
          "base_uri": "https://localhost:8080/"
        },
        "id": "YfJpPrE0oK9s",
        "outputId": "19e90515-8df2-4c09-be2b-b25b53440a1a"
      },
      "execution_count": 7,
      "outputs": [
        {
          "output_type": "stream",
          "name": "stdout",
          "text": [
            "[2, 8]\n"
          ]
        }
      ]
    },
    {
      "cell_type": "markdown",
      "source": [
        "E se resolvermos fazer com a tupla? "
      ],
      "metadata": {
        "id": "ymGxRk2vo3SM"
      }
    },
    {
      "cell_type": "code",
      "source": [
        "del tupla[0]\n",
        "print(tupla)"
      ],
      "metadata": {
        "colab": {
          "base_uri": "https://localhost:8080/",
          "height": 183
        },
        "id": "M-dz-4Myo60v",
        "outputId": "5564b1d3-faca-4395-fa54-df8ef1a12756"
      },
      "execution_count": 8,
      "outputs": [
        {
          "output_type": "error",
          "ename": "TypeError",
          "evalue": "ignored",
          "traceback": [
            "\u001b[0;31m---------------------------------------------------------------------------\u001b[0m",
            "\u001b[0;31mTypeError\u001b[0m                                 Traceback (most recent call last)",
            "\u001b[0;32m<ipython-input-8-7a890f5a1e16>\u001b[0m in \u001b[0;36m<module>\u001b[0;34m()\u001b[0m\n\u001b[0;32m----> 1\u001b[0;31m \u001b[0;32mdel\u001b[0m \u001b[0mtupla\u001b[0m\u001b[0;34m[\u001b[0m\u001b[0;36m0\u001b[0m\u001b[0;34m]\u001b[0m\u001b[0;34m\u001b[0m\u001b[0;34m\u001b[0m\u001b[0m\n\u001b[0m\u001b[1;32m      2\u001b[0m \u001b[0mprint\u001b[0m\u001b[0;34m(\u001b[0m\u001b[0mtupla\u001b[0m\u001b[0;34m)\u001b[0m\u001b[0;34m\u001b[0m\u001b[0;34m\u001b[0m\u001b[0m\n",
            "\u001b[0;31mTypeError\u001b[0m: 'tuple' object doesn't support item deletion"
          ]
        }
      ]
    },
    {
      "cell_type": "markdown",
      "source": [
        "Veja que também acontece o erro e assim não conseguimos deletar o elemento do índice 0 da tupla."
      ],
      "metadata": {
        "id": "S--Xq240pBWJ"
      }
    },
    {
      "cell_type": "markdown",
      "source": [
        "E se fossemos para o .append ? Também não funcionaria. "
      ],
      "metadata": {
        "id": "phaIzGV3pMNQ"
      }
    },
    {
      "cell_type": "markdown",
      "source": [
        "E se quisessemos tranformar uma lista em uma tupla, o que faríamos:"
      ],
      "metadata": {
        "id": "lGZZLp40pZ2H"
      }
    },
    {
      "cell_type": "code",
      "source": [
        "nova_tupla = tuple(lista)\n",
        "\n",
        "print(nova_tupla)"
      ],
      "metadata": {
        "colab": {
          "base_uri": "https://localhost:8080/"
        },
        "id": "8uvNFelLpomc",
        "outputId": "6d2d6937-e49c-45d3-8039-22f166bf3fb1"
      },
      "execution_count": 11,
      "outputs": [
        {
          "output_type": "stream",
          "name": "stdout",
          "text": [
            "(2, 8)\n"
          ]
        }
      ]
    },
    {
      "cell_type": "code",
      "source": [
        "type(nova_tupla)"
      ],
      "metadata": {
        "colab": {
          "base_uri": "https://localhost:8080/"
        },
        "id": "DcH-YAAsp8OT",
        "outputId": "280b52c1-1fcb-46f9-aa00-593e84d8098c"
      },
      "execution_count": 12,
      "outputs": [
        {
          "output_type": "execute_result",
          "data": {
            "text/plain": [
              "tuple"
            ]
          },
          "metadata": {},
          "execution_count": 12
        }
      ]
    },
    {
      "cell_type": "markdown",
      "source": [
        "Qual a vantagem de tuplas? \n",
        "\n",
        "Além das tuplas ocuparem menos memória que as listas, você pode precisar que em determinado local do seu código não venha a ter alterações, que fique na mesma ordem."
      ],
      "metadata": {
        "id": "bxqithGEqEJo"
      }
    },
    {
      "cell_type": "markdown",
      "source": [
        "Quando você quer reconhecer um só número como tupla é necessário usar uma vírgula.\n",
        "\n",
        "Exemplo:"
      ],
      "metadata": {
        "id": "PfLQepMNq1Mh"
      }
    },
    {
      "cell_type": "code",
      "source": [
        "numero = (3)"
      ],
      "metadata": {
        "id": "qCh3ahm_rBAP"
      },
      "execution_count": 13,
      "outputs": []
    },
    {
      "cell_type": "code",
      "source": [
        "type(numero)"
      ],
      "metadata": {
        "colab": {
          "base_uri": "https://localhost:8080/"
        },
        "id": "nT515epUrMxF",
        "outputId": "efcdcd65-497d-45c0-c605-f98a72c33167"
      },
      "execution_count": 14,
      "outputs": [
        {
          "output_type": "execute_result",
          "data": {
            "text/plain": [
              "int"
            ]
          },
          "metadata": {},
          "execution_count": 14
        }
      ]
    },
    {
      "cell_type": "code",
      "source": [
        "numero0 = (3,)"
      ],
      "metadata": {
        "id": "ogAYZJ8FrQPp"
      },
      "execution_count": 15,
      "outputs": []
    },
    {
      "cell_type": "code",
      "source": [
        "type(numero0)"
      ],
      "metadata": {
        "colab": {
          "base_uri": "https://localhost:8080/"
        },
        "id": "9ukxAhfYrWJO",
        "outputId": "21cce0fe-f60c-4526-89ca-3ddb6bfab36d"
      },
      "execution_count": 16,
      "outputs": [
        {
          "output_type": "execute_result",
          "data": {
            "text/plain": [
              "tuple"
            ]
          },
          "metadata": {},
          "execution_count": 16
        }
      ]
    },
    {
      "cell_type": "markdown",
      "source": [
        "\n",
        "\n",
        "---\n",
        "\n"
      ],
      "metadata": {
        "id": "v8hAabWErtnr"
      }
    }
  ]
}