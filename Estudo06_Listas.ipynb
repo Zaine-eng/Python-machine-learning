{
  "nbformat": 4,
  "nbformat_minor": 0,
  "metadata": {
    "colab": {
      "name": "Estudo06_Listas.ipynb",
      "provenance": [],
      "authorship_tag": "ABX9TyOJB0nzUJyk4SPq9msvWb9k",
      "include_colab_link": true
    },
    "kernelspec": {
      "name": "python3",
      "display_name": "Python 3"
    },
    "language_info": {
      "name": "python"
    }
  },
  "cells": [
    {
      "cell_type": "markdown",
      "metadata": {
        "id": "view-in-github",
        "colab_type": "text"
      },
      "source": [
        "<a href=\"https://colab.research.google.com/github/Zaine-eng/Python-pandas-numpay-matplotlib/blob/main/Estudo06_Listas.ipynb\" target=\"_parent\"><img src=\"https://colab.research.google.com/assets/colab-badge.svg\" alt=\"Open In Colab\"/></a>"
      ]
    },
    {
      "cell_type": "markdown",
      "source": [
        "# **1. Listas**"
      ],
      "metadata": {
        "id": "igjU08WL0m8c"
      }
    },
    {
      "cell_type": "markdown",
      "source": [
        "Estrutura da lista "
      ],
      "metadata": {
        "id": "Qdvtwo2BCb9y"
      }
    },
    {
      "cell_type": "code",
      "execution_count": 4,
      "metadata": {
        "id": "f4js41YZ0g3u"
      },
      "outputs": [],
      "source": [
        "lista1 = [1, 2, 3]"
      ]
    },
    {
      "cell_type": "code",
      "source": [
        "type(lista1)"
      ],
      "metadata": {
        "colab": {
          "base_uri": "https://localhost:8080/"
        },
        "id": "yzKNLCOZCPs6",
        "outputId": "ffbe2a1f-a444-4cc6-b3bb-93aed804b785"
      },
      "execution_count": 5,
      "outputs": [
        {
          "output_type": "execute_result",
          "data": {
            "text/plain": [
              "list"
            ]
          },
          "metadata": {},
          "execution_count": 5
        }
      ]
    },
    {
      "cell_type": "code",
      "source": [
        "lista2 = [[1,2,3],[2, 3, 4],[2,5,7]]\n",
        "print(lista2)"
      ],
      "metadata": {
        "colab": {
          "base_uri": "https://localhost:8080/"
        },
        "id": "4VCxyo30CfYX",
        "outputId": "9d02a5bb-3bb4-4e79-acb7-9095a5a530b4"
      },
      "execution_count": 10,
      "outputs": [
        {
          "output_type": "stream",
          "name": "stdout",
          "text": [
            "[[1, 2, 3], [2, 3, 4], [2, 5, 7]]\n"
          ]
        }
      ]
    },
    {
      "cell_type": "markdown",
      "source": [
        "Desejo o elemento do indice por exemplo:"
      ],
      "metadata": {
        "id": "Usn0AiTJDDyS"
      }
    },
    {
      "cell_type": "code",
      "source": [
        "lista1[0]"
      ],
      "metadata": {
        "colab": {
          "base_uri": "https://localhost:8080/"
        },
        "id": "4hNkBlx_DIYs",
        "outputId": "8840fa80-2eaa-4a5e-ae06-dcd8e1fd4cc8"
      },
      "execution_count": 12,
      "outputs": [
        {
          "output_type": "execute_result",
          "data": {
            "text/plain": [
              "1"
            ]
          },
          "metadata": {},
          "execution_count": 12
        }
      ]
    },
    {
      "cell_type": "code",
      "source": [
        "lista2[2]"
      ],
      "metadata": {
        "colab": {
          "base_uri": "https://localhost:8080/"
        },
        "id": "rHItFc14DRbW",
        "outputId": "76741532-9233-40ab-b1ce-9a2e43cc0fc2"
      },
      "execution_count": 14,
      "outputs": [
        {
          "output_type": "execute_result",
          "data": {
            "text/plain": [
              "[2, 5, 7]"
            ]
          },
          "metadata": {},
          "execution_count": 14
        }
      ]
    },
    {
      "cell_type": "markdown",
      "source": [
        "Cuidado que o python começa a partir do 0, ou seja, na lista2 só iria até o elemento do indice [2]."
      ],
      "metadata": {
        "id": "k6-pqQ6SDXYH"
      }
    },
    {
      "cell_type": "markdown",
      "source": [
        "Você também consegue filtrar os elementos dentro dos indices, como podemos ver abaixo:\n"
      ],
      "metadata": {
        "id": "7vgmrN8DDkdR"
      }
    },
    {
      "cell_type": "code",
      "source": [
        "lista2[1][2]"
      ],
      "metadata": {
        "colab": {
          "base_uri": "https://localhost:8080/"
        },
        "id": "-0la6KdoDzZw",
        "outputId": "44d84c22-5d16-4907-d59c-295e76034973"
      },
      "execution_count": 15,
      "outputs": [
        {
          "output_type": "execute_result",
          "data": {
            "text/plain": [
              "4"
            ]
          },
          "metadata": {},
          "execution_count": 15
        }
      ]
    },
    {
      "cell_type": "code",
      "source": [
        "select = lista2[1]\n",
        "print(select)"
      ],
      "metadata": {
        "colab": {
          "base_uri": "https://localhost:8080/"
        },
        "id": "iKUnxYXQECAX",
        "outputId": "d40e3e16-1c07-47a1-ed56-3f132b2e58ea"
      },
      "execution_count": 17,
      "outputs": [
        {
          "output_type": "stream",
          "name": "stdout",
          "text": [
            "[2, 3, 4]\n"
          ]
        }
      ]
    },
    {
      "cell_type": "code",
      "source": [
        "type(select)"
      ],
      "metadata": {
        "colab": {
          "base_uri": "https://localhost:8080/"
        },
        "id": "pfF1uH9lEJYk",
        "outputId": "7c27fa05-38fd-46bc-8624-c48e99ebc74f"
      },
      "execution_count": 18,
      "outputs": [
        {
          "output_type": "execute_result",
          "data": {
            "text/plain": [
              "list"
            ]
          },
          "metadata": {},
          "execution_count": 18
        }
      ]
    },
    {
      "cell_type": "code",
      "source": [
        "select02 = lista2[0][2]\n",
        "print(select02)"
      ],
      "metadata": {
        "colab": {
          "base_uri": "https://localhost:8080/"
        },
        "id": "TuIsVCq7Ehhj",
        "outputId": "82176cb9-4579-4f11-d74e-66b606db976e"
      },
      "execution_count": 19,
      "outputs": [
        {
          "output_type": "stream",
          "name": "stdout",
          "text": [
            "3\n"
          ]
        }
      ]
    },
    {
      "cell_type": "code",
      "source": [
        "type(select02)"
      ],
      "metadata": {
        "colab": {
          "base_uri": "https://localhost:8080/"
        },
        "id": "u-MrR3HlEvGJ",
        "outputId": "5f52e610-8856-48bd-8c92-bff20a363407"
      },
      "execution_count": 20,
      "outputs": [
        {
          "output_type": "execute_result",
          "data": {
            "text/plain": [
              "int"
            ]
          },
          "metadata": {},
          "execution_count": 20
        }
      ]
    },
    {
      "cell_type": "markdown",
      "source": [
        "Listas com função "
      ],
      "metadata": {
        "id": "dEEPgAKfHrif"
      }
    },
    {
      "cell_type": "code",
      "source": [
        "import random \n",
        "cidades = ['São Paulo', 'Rio de Janeiro', 'Belo Horizonte', 'Porto Alegre']\n",
        "escolhida = random.choice(cidades)\n",
        "print('A cidade escolhida é:',escolhida)"
      ],
      "metadata": {
        "colab": {
          "base_uri": "https://localhost:8080/"
        },
        "id": "YQ4B1xOxHuW-",
        "outputId": "e389b2c5-fdd3-40ec-dee4-a79d5db945a5"
      },
      "execution_count": 26,
      "outputs": [
        {
          "output_type": "stream",
          "name": "stdout",
          "text": [
            "A cidade escolhida é: São Paulo\n"
          ]
        }
      ]
    },
    {
      "cell_type": "markdown",
      "source": [
        "A função random.choice sorteia algo, número, string e etc..."
      ],
      "metadata": {
        "id": "WSwqvt0gIlQO"
      }
    },
    {
      "cell_type": "code",
      "source": [
        "a = [1,2,3]"
      ],
      "metadata": {
        "id": "KHrKgr-LIqql"
      },
      "execution_count": 28,
      "outputs": []
    },
    {
      "cell_type": "markdown",
      "source": [
        "append = adiciona um novo elemento no finl da lista."
      ],
      "metadata": {
        "id": "tPazeoRzI51b"
      }
    },
    {
      "cell_type": "code",
      "source": [
        "a.append(15)"
      ],
      "metadata": {
        "id": "LU830silI-Xs"
      },
      "execution_count": 29,
      "outputs": []
    },
    {
      "cell_type": "code",
      "source": [
        "b = [2,3,4]"
      ],
      "metadata": {
        "id": "CvH6pbaeJOqA"
      },
      "execution_count": 31,
      "outputs": []
    },
    {
      "cell_type": "markdown",
      "source": [
        "E se eu agora? Como fariamos um a+b?"
      ],
      "metadata": {
        "id": "m6NlOS-DJR9Y"
      }
    },
    {
      "cell_type": "code",
      "source": [
        "for item in b:\n",
        "  a.append(item)\n",
        "print(a)"
      ],
      "metadata": {
        "colab": {
          "base_uri": "https://localhost:8080/"
        },
        "id": "NaOtKAS3JbJ7",
        "outputId": "5b9c4b40-7ea2-444f-9be1-be3393de428d"
      },
      "execution_count": 32,
      "outputs": [
        {
          "output_type": "stream",
          "name": "stdout",
          "text": [
            "[1, 2, 3, 15, 2, 3, 4]\n"
          ]
        }
      ]
    },
    {
      "cell_type": "markdown",
      "source": [
        "Transformando número em variável"
      ],
      "metadata": {
        "id": "_Q8Zy7XRLgoY"
      }
    },
    {
      "cell_type": "code",
      "source": [
        "num = 8 "
      ],
      "metadata": {
        "id": "yf70HJW-LW7W"
      },
      "execution_count": 33,
      "outputs": []
    },
    {
      "cell_type": "code",
      "source": [
        "type(num)"
      ],
      "metadata": {
        "colab": {
          "base_uri": "https://localhost:8080/"
        },
        "id": "_YWaziNRLbu7",
        "outputId": "a521affd-2fe3-4c1f-cda8-c8eceb65825e"
      },
      "execution_count": 34,
      "outputs": [
        {
          "output_type": "execute_result",
          "data": {
            "text/plain": [
              "int"
            ]
          },
          "metadata": {},
          "execution_count": 34
        }
      ]
    },
    {
      "cell_type": "code",
      "source": [
        "float(num)"
      ],
      "metadata": {
        "colab": {
          "base_uri": "https://localhost:8080/"
        },
        "id": "ufTv_ni0LeAo",
        "outputId": "09a1cc15-9b44-41cc-c688-b27d0bd349d6"
      },
      "execution_count": 35,
      "outputs": [
        {
          "output_type": "execute_result",
          "data": {
            "text/plain": [
              "8.0"
            ]
          },
          "metadata": {},
          "execution_count": 35
        }
      ]
    },
    {
      "cell_type": "markdown",
      "source": [
        "Convertendo elementos de uma lista de número para inteiro"
      ],
      "metadata": {
        "id": "RqXdioInLsXY"
      }
    },
    {
      "cell_type": "code",
      "source": [
        "lista = [1, 2, 3]"
      ],
      "metadata": {
        "id": "X3mmarRyUHy8"
      },
      "execution_count": 40,
      "outputs": []
    },
    {
      "cell_type": "code",
      "source": [
        "float_list = []\n",
        "for item in lista:\n",
        "    float_list.append(float(item))\n",
        "    \n",
        "print(float_list)"
      ],
      "metadata": {
        "colab": {
          "base_uri": "https://localhost:8080/"
        },
        "id": "zw1IeXdFLoiK",
        "outputId": "c4602529-b851-4e42-9132-5c9c579f10f1"
      },
      "execution_count": 41,
      "outputs": [
        {
          "output_type": "stream",
          "name": "stdout",
          "text": [
            "[1.0, 2.0, 3.0]\n"
          ]
        }
      ]
    },
    {
      "cell_type": "markdown",
      "source": [
        "\n",
        "\n",
        "---\n",
        "\n"
      ],
      "metadata": {
        "id": "yW8T8VzRWGA2"
      }
    }
  ]
}