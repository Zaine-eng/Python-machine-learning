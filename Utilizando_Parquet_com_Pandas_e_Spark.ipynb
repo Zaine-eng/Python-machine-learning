{
  "nbformat": 4,
  "nbformat_minor": 0,
  "metadata": {
    "colab": {
      "provenance": [],
      "authorship_tag": "ABX9TyO23rpA0BaPnK/Fo4qHEBid",
      "include_colab_link": true
    },
    "kernelspec": {
      "name": "python3",
      "display_name": "Python 3"
    },
    "language_info": {
      "name": "python"
    }
  },
  "cells": [
    {
      "cell_type": "markdown",
      "metadata": {
        "id": "view-in-github",
        "colab_type": "text"
      },
      "source": [
        "<a href=\"https://colab.research.google.com/github/Zaine-eng/Python-pandas-numpay-matplotlib/blob/main/Utilizando_Parquet_com_Pandas_e_Spark.ipynb\" target=\"_parent\"><img src=\"https://colab.research.google.com/assets/colab-badge.svg\" alt=\"Open In Colab\"/></a>"
      ]
    },
    {
      "cell_type": "markdown",
      "source": [
        "## **Utilizando o Parquet com Pandas**"
      ],
      "metadata": {
        "id": "oVt7r60pWjbc"
      }
    },
    {
      "cell_type": "markdown",
      "source": [
        "No exemplo abaixo vamos converter uma lista de dicionários, salvar no formato Parquet e após vamos carregar o arquivo gerado para conferência. "
      ],
      "metadata": {
        "id": "Mv3oj_DVW6bk"
      }
    },
    {
      "cell_type": "code",
      "execution_count": 1,
      "metadata": {
        "id": "uXHTBZlTWW9X"
      },
      "outputs": [],
      "source": [
        "import pandas as pd"
      ]
    },
    {
      "cell_type": "code",
      "source": [
        "pessoas_df = pd.DataFrame([\n",
        "    {\"nome\":\"Pedro\", \"idade\": 15},\n",
        "    {\"nome\":\"João\", \"idade\":30},\n",
        "    {\"nome\":\"Maria\", \"idade\":19},\n",
        "    {\"nome\":\"Marcelo\", \"idade\":18},\n",
        "    {\"nome\":\"Alex\", \"idade\":38},\n",
        "    {\"nome\":\"Otavio\", \"idade\":44},\n",
        "    {\"nome\":\"Ricardo\", \"idade\":23},\n",
        "    {\"nome\":\"Camila\", \"idade\":12},\n",
        "    {\"nome\":\"Alice\", \"idade\":24},\n",
        "    {\"nome\":\"Marlei\", \"idade\":32},\n",
        "    {\"nome\":\"Marilene\", \"idade\":56},\n",
        "    {\"nome\":\"Judite\", \"idade\":60},\n",
        "])"
      ],
      "metadata": {
        "id": "-KYEFJzAXP9E"
      },
      "execution_count": 2,
      "outputs": []
    },
    {
      "cell_type": "markdown",
      "source": [
        "Chamando o dataframe criado \n"
      ],
      "metadata": {
        "id": "9-eNzfZbXoJM"
      }
    },
    {
      "cell_type": "code",
      "source": [
        "print(pessoas_df)"
      ],
      "metadata": {
        "colab": {
          "base_uri": "https://localhost:8080/"
        },
        "id": "nh9Y9-LNXvZ7",
        "outputId": "1c6a37d4-9117-4911-aa4a-3b9c99acede9"
      },
      "execution_count": 3,
      "outputs": [
        {
          "output_type": "stream",
          "name": "stdout",
          "text": [
            "        nome  idade\n",
            "0      Pedro     15\n",
            "1       João     30\n",
            "2      Maria     19\n",
            "3    Marcelo     18\n",
            "4       Alex     38\n",
            "5     Otavio     44\n",
            "6    Ricardo     23\n",
            "7     Camila     12\n",
            "8      Alice     24\n",
            "9     Marlei     32\n",
            "10  Marilene     56\n",
            "11    Judite     60\n"
          ]
        }
      ]
    },
    {
      "cell_type": "markdown",
      "source": [
        "Para salvar no estilo parquet precisamos detalhar da maneira vista abaixo: "
      ],
      "metadata": {
        "id": "ADyhaO38X9AU"
      }
    },
    {
      "cell_type": "code",
      "source": [
        "pessoas_df.to_parquet(\"./pessoas.pq\")"
      ],
      "metadata": {
        "id": "QmSCk8P_YK8z"
      },
      "execution_count": 4,
      "outputs": []
    },
    {
      "cell_type": "code",
      "source": [
        "parquet_df = pd.read_parquet(\"./pessoas.pq\")"
      ],
      "metadata": {
        "id": "y9vZnqfIYmAr"
      },
      "execution_count": 5,
      "outputs": []
    },
    {
      "cell_type": "code",
      "source": [
        "print(parquet_df)"
      ],
      "metadata": {
        "colab": {
          "base_uri": "https://localhost:8080/"
        },
        "id": "J_8bd2DBYzxs",
        "outputId": "6959a72a-e304-491a-9072-8b22b04db0fa"
      },
      "execution_count": 6,
      "outputs": [
        {
          "output_type": "stream",
          "name": "stdout",
          "text": [
            "        nome  idade\n",
            "0      Pedro     15\n",
            "1       João     30\n",
            "2      Maria     19\n",
            "3    Marcelo     18\n",
            "4       Alex     38\n",
            "5     Otavio     44\n",
            "6    Ricardo     23\n",
            "7     Camila     12\n",
            "8      Alice     24\n",
            "9     Marlei     32\n",
            "10  Marilene     56\n",
            "11    Judite     60\n"
          ]
        }
      ]
    },
    {
      "cell_type": "markdown",
      "source": [
        "Referência: https://butecotecnologico.com.br/apache-parquet-explicado/"
      ],
      "metadata": {
        "id": "iF2dA-xSk7yM"
      }
    }
  ]
}